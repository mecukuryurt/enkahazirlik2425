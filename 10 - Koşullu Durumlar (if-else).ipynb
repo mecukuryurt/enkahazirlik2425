{
  "cells": [
    {
      "cell_type": "markdown",
      "metadata": {
        "id": "Lscm-IaosuMt"
      },
      "source": [
        "# Koşullu Durumlar"
      ]
    },
    {
      "cell_type": "code",
      "execution_count": null,
      "metadata": {
        "id": "fUJV8gudsuMt",
        "outputId": "20edf8d2-9175-4202-f38a-3e2dd06f1fa1"
      },
      "outputs": [
        {
          "name": "stdout",
          "output_type": "stream",
          "text": [
            "2\n"
          ]
        }
      ],
      "source": [
        "a = 2\n",
        "if a == 2:\n",
        "    print(a)\n",
        "\n",
        "# if a == 2    İki kullanım\n",
        "# if (a == 2)  da doğrudur"
      ]
    },
    {
      "cell_type": "code",
      "execution_count": null,
      "metadata": {
        "id": "f7c-a_1lsuMu",
        "outputId": "96529b84-f347-4a24-d8cc-221bfaa756cb"
      },
      "outputs": [
        {
          "name": "stdout",
          "output_type": "stream",
          "text": [
            "Merhaba\n"
          ]
        }
      ],
      "source": [
        "a = 3 # 1. Blok\n",
        "b = 2\n",
        "\n",
        "if (a == 2):\n",
        "    print(a) # 2. Blok\n",
        "    if (b == 2):\n",
        "        print(b) # 3. Blok\n",
        "print(\"Merhaba\")"
      ]
    },
    {
      "cell_type": "code",
      "execution_count": null,
      "metadata": {
        "id": "dSym-4wKsuMu",
        "outputId": "d1a6cde2-f5b4-4b58-8d20-60f93a80b39f"
      },
      "outputs": [
        {
          "name": "stdout",
          "output_type": "stream",
          "text": [
            "2\n",
            "2\n",
            "Merhaba\n"
          ]
        }
      ],
      "source": [
        "a = 2 # 1. Blok\n",
        "b = 2\n",
        "\n",
        "if (a == 2):\n",
        "    print(a) # 2. Blok\n",
        "    if (b == 2):\n",
        "        print(b) # 3. Blok\n",
        "print(\"Merhaba\")"
      ]
    },
    {
      "cell_type": "code",
      "execution_count": 1,
      "metadata": {
        "colab": {
          "base_uri": "https://localhost:8080/"
        },
        "id": "uf9UiBjtsuMv",
        "outputId": "0fc7c45d-eec3-49e1-b253-30c526a2db52"
      },
      "outputs": [
        {
          "output_type": "stream",
          "name": "stdout",
          "text": [
            "Yaşın kaç? 15\n",
            "Yürü git, mekana giremezsin\n"
          ]
        }
      ],
      "source": [
        "yas = int(input(\"Yaşın kaç? \"))\n",
        "\n",
        "if yas < 18:\n",
        "    print(\"Yürü git, mekana giremezsin\")\n",
        "if yas >= 18:\n",
        "    print(\"Mekana girebilirsin.\")"
      ]
    },
    {
      "cell_type": "code",
      "execution_count": 2,
      "metadata": {
        "colab": {
          "base_uri": "https://localhost:8080/"
        },
        "id": "Zwj2F6NosuMv",
        "outputId": "700ba215-4ad7-4017-8cf0-02cef80235f9"
      },
      "outputs": [
        {
          "output_type": "stream",
          "name": "stdout",
          "text": [
            "Yaşın kaç? 14\n",
            "Yürü git, mekana giremezsin\n"
          ]
        }
      ],
      "source": [
        "yas = int(input(\"Yaşın kaç? \"))\n",
        "\n",
        "if yas < 18:\n",
        "    print(\"Yürü git, mekana giremezsin\")\n",
        "else:\n",
        "    print(\"Mekana girebilirsin.\")"
      ]
    },
    {
      "cell_type": "code",
      "execution_count": 4,
      "metadata": {
        "colab": {
          "base_uri": "https://localhost:8080/"
        },
        "id": "mESWEXRasuMv",
        "outputId": "aca686ea-de61-4b70-dc7b-c9c20eec60dc"
      },
      "outputs": [
        {
          "output_type": "stream",
          "name": "stdout",
          "text": [
            "Yaşın kaç? 12\n",
            "Mekana giremezsin\n",
            "Bak anneni ararım ha\n"
          ]
        }
      ],
      "source": [
        "yas = int(input(\"Yaşın kaç? \"))\n",
        "if (yas < 18):\n",
        "    print(\"Mekana giremezsin\")\n",
        "    if (yas < 5):\n",
        "        print(\"Çen buyaya mı giyeçen\")\n",
        "    if (5 <= yas < 13):\n",
        "        print(\"Bak anneni ararım ha\")\n",
        "else:\n",
        "    print(\"Girebilirsin\")"
      ]
    },
    {
      "cell_type": "code",
      "execution_count": 6,
      "metadata": {
        "colab": {
          "base_uri": "https://localhost:8080/"
        },
        "id": "o2pGUAs2suMv",
        "outputId": "95746421-bdc8-4521-f115-7ca0471ca101"
      },
      "outputs": [
        {
          "output_type": "stream",
          "name": "stdout",
          "text": [
            "Yaşın kaç? 76\n",
            "Vay dedeciğim nineciğim hoş geldin\n"
          ]
        }
      ],
      "source": [
        "yas = int(input(\"Yaşın kaç? \"))\n",
        "\n",
        "if (0 < yas < 5):\n",
        "    print(\"Yaşın kaç başın kaç oğlum?\")\n",
        "if (5 <= yas <= 13):\n",
        "    print(\"Çıldırtacak mısın beni git evine\")\n",
        "if (13 < yas < 18):\n",
        "    print(\"Benim seni aldığımı kimseye söyleme. Çaktırma\")\n",
        "if (18 <= yas < 65):\n",
        "    print(\"Hoş geldin kral\")\n",
        "if (65 <= yas < 100):\n",
        "    print(\"Vay dedeciğim nineciğim hoş geldin\")\n",
        "if (100 <= yas):\n",
        "    print(\"Dede, nine, mezarına dön hadi\")\n",
        "if (yas <= 0):\n",
        "    print(\"Portakalda vitaminsin\")"
      ]
    }
  ],
  "metadata": {
    "kernelspec": {
      "display_name": "Python 3",
      "language": "python",
      "name": "python3"
    },
    "language_info": {
      "codemirror_mode": {
        "name": "ipython",
        "version": 3
      },
      "file_extension": ".py",
      "mimetype": "text/x-python",
      "name": "python",
      "nbconvert_exporter": "python",
      "pygments_lexer": "ipython3",
      "version": "3.11.9"
    },
    "colab": {
      "provenance": []
    }
  },
  "nbformat": 4,
  "nbformat_minor": 0
}
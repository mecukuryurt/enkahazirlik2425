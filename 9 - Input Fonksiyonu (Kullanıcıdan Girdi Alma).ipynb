{
  "cells": [
    {
      "cell_type": "markdown",
      "metadata": {
        "id": "mjAJw046nBzU"
      },
      "source": [
        "# input() fonksiyonu"
      ]
    },
    {
      "cell_type": "code",
      "execution_count": 1,
      "metadata": {
        "colab": {
          "base_uri": "https://localhost:8080/",
          "height": 53
        },
        "id": "wXS8cobsnBzV",
        "outputId": "6a4ccff7-9e3a-4364-9393-d7b3c9872064"
      },
      "outputs": [
        {
          "name": "stdout",
          "output_type": "stream",
          "text": [
            "merhaba\n"
          ]
        },
        {
          "output_type": "execute_result",
          "data": {
            "text/plain": [
              "'merhaba'"
            ],
            "application/vnd.google.colaboratory.intrinsic+json": {
              "type": "string"
            }
          },
          "metadata": {},
          "execution_count": 1
        }
      ],
      "source": [
        "input()"
      ]
    },
    {
      "cell_type": "code",
      "execution_count": 2,
      "metadata": {
        "colab": {
          "base_uri": "https://localhost:8080/",
          "height": 53
        },
        "id": "uHKyIkr_nBzV",
        "outputId": "395777f7-c6ec-45b5-deb6-26ad23101ba0"
      },
      "outputs": [
        {
          "name": "stdout",
          "output_type": "stream",
          "text": [
            "Lütfen bir sayı giriniz: 56\n"
          ]
        },
        {
          "output_type": "execute_result",
          "data": {
            "text/plain": [
              "'56'"
            ],
            "application/vnd.google.colaboratory.intrinsic+json": {
              "type": "string"
            }
          },
          "metadata": {},
          "execution_count": 2
        }
      ],
      "source": [
        "input(\"Lütfen bir sayı giriniz: \")"
      ]
    },
    {
      "cell_type": "code",
      "execution_count": 3,
      "metadata": {
        "colab": {
          "base_uri": "https://localhost:8080/"
        },
        "id": "BsUDxwu8nBzV",
        "outputId": "5566718d-399b-4690-ae3e-e44b80e53578"
      },
      "outputs": [
        {
          "output_type": "stream",
          "name": "stdout",
          "text": [
            "Sayı gir: 123\n",
            "Bir sayı daha gir: 765\n",
            "Girdiğin sayıların toplamı:  123765\n"
          ]
        }
      ],
      "source": [
        "# input fonksiyonu her daim string döndürür\n",
        "a = input(\"Sayı gir: \")\n",
        "b = input(\"Bir sayı daha gir: \")\n",
        "print(\"Girdiğin sayıların toplamı: \", a+b)"
      ]
    },
    {
      "cell_type": "code",
      "execution_count": 4,
      "metadata": {
        "colab": {
          "base_uri": "https://localhost:8080/"
        },
        "id": "I0wGIm6HnBzW",
        "outputId": "b6de2258-1afc-40a7-ce9a-d51ee1e98a3c"
      },
      "outputs": [
        {
          "output_type": "stream",
          "name": "stdout",
          "text": [
            "Sayı gir: 14\n",
            "Bir sayı daha gir: 65\n",
            "Girdiğin sayıların toplamı:  79\n"
          ]
        }
      ],
      "source": [
        "a = int(input(\"Sayı gir: \"))\n",
        "b = int(input(\"Bir sayı daha gir: \"))\n",
        "print(\"Girdiğin sayıların toplamı: \", a+b)"
      ]
    },
    {
      "cell_type": "code",
      "execution_count": 6,
      "metadata": {
        "colab": {
          "base_uri": "https://localhost:8080/"
        },
        "id": "SUBOjXJpnBzW",
        "outputId": "c781686e-1b38-4f6f-c64d-519ae3c8b742"
      },
      "outputs": [
        {
          "output_type": "stream",
          "name": "stdout",
          "text": [
            "Sayı giriniz: 401\n",
            "1203\n"
          ]
        }
      ],
      "source": [
        "x = int(input(\"Sayı giriniz: \"))\n",
        "print(x * 3)"
      ]
    },
    {
      "cell_type": "code",
      "execution_count": 7,
      "metadata": {
        "colab": {
          "base_uri": "https://localhost:8080/"
        },
        "id": "zy2gQorBnBzW",
        "outputId": "61bed0f0-06be-4fcd-bf52-e0b197237e2e"
      },
      "outputs": [
        {
          "output_type": "stream",
          "name": "stdout",
          "text": [
            "1. sayıyı gir: 10\n",
            "2. sayıyı gir: 55\n",
            "3. sayıyı gir: 23\n",
            "10*55*23=12650\n"
          ]
        }
      ],
      "source": [
        "k = int(input(\"1. sayıyı gir: \"))\n",
        "l = int(input(\"2. sayıyı gir: \"))\n",
        "m = int(input(\"3. sayıyı gir: \"))\n",
        "print(\"{}*{}*{}={}\".format(k,l,m,k*l*m))"
      ]
    },
    {
      "cell_type": "code",
      "execution_count": 9,
      "metadata": {
        "colab": {
          "base_uri": "https://localhost:8080/"
        },
        "id": "UfVKGQRNnBzW",
        "outputId": "7c59815b-ff28-4ae6-ccdb-c47bf3b2f6b1"
      },
      "outputs": [
        {
          "output_type": "stream",
          "name": "stdout",
          "text": [
            "Litre fiyatını giriniz: 42\n",
            "1 km'de kaç TL'lik yakıt yakıyor: 2\n",
            "Yol kaç kilometre: 1100\n",
            "2.0*1100.0/42.0=52.381 litre yakıt yakar.\n",
            "2.0*1100.0=2200.0 TL yakar.\n"
          ]
        }
      ],
      "source": [
        "fiyat = float(input(\"Litre fiyatını giriniz: \"))\n",
        "kmde = float(input(\"1 km'de kaç TL'lik yakıt yakıyor: \"))\n",
        "yol = float(input(\"Yol kaç kilometre: \"))\n",
        "\n",
        "print(\"{}*{}/{}={:.3f} litre yakıt yakar.\".format(kmde,yol,fiyat,kmde*yol/fiyat))\n",
        "print(\"{}*{}={} TL yakar.\".format(kmde,yol,kmde*yol))"
      ]
    }
  ],
  "metadata": {
    "kernelspec": {
      "display_name": "Python 3",
      "language": "python",
      "name": "python3"
    },
    "language_info": {
      "codemirror_mode": {
        "name": "ipython",
        "version": 3
      },
      "file_extension": ".py",
      "mimetype": "text/x-python",
      "name": "python",
      "nbconvert_exporter": "python",
      "pygments_lexer": "ipython3",
      "version": "3.11.9"
    },
    "colab": {
      "provenance": []
    }
  },
  "nbformat": 4,
  "nbformat_minor": 0
}
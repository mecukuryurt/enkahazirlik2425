{
 "cells": [
  {
   "cell_type": "markdown",
   "metadata": {},
   "source": [
    "# Print Fonksiyonu"
   ]
  },
  {
   "cell_type": "code",
   "execution_count": 1,
   "metadata": {},
   "outputs": [
    {
     "name": "stdout",
     "output_type": "stream",
     "text": [
      "5\n"
     ]
    }
   ],
   "source": [
    "a = 5\n",
    "print(a)"
   ]
  },
  {
   "cell_type": "code",
   "execution_count": 2,
   "metadata": {},
   "outputs": [
    {
     "name": "stdout",
     "output_type": "stream",
     "text": [
      "76\n"
     ]
    }
   ],
   "source": [
    "print(76)"
   ]
  },
  {
   "cell_type": "code",
   "execution_count": 3,
   "metadata": {},
   "outputs": [
    {
     "name": "stdout",
     "output_type": "stream",
     "text": [
      "3.14159265\n"
     ]
    }
   ],
   "source": [
    "print(3.14159265)"
   ]
  },
  {
   "cell_type": "code",
   "execution_count": 4,
   "metadata": {},
   "outputs": [
    {
     "name": "stdout",
     "output_type": "stream",
     "text": [
      "11\n"
     ]
    }
   ],
   "source": [
    "a = 5\n",
    "b = 6\n",
    "print(a+b)"
   ]
  },
  {
   "cell_type": "code",
   "execution_count": 5,
   "metadata": {},
   "outputs": [
    {
     "name": "stdout",
     "output_type": "stream",
     "text": [
      "Merhaba, ben Volkan Konak\n"
     ]
    }
   ],
   "source": [
    "print(\"Merhaba, ben Volkan Konak\")"
   ]
  },
  {
   "cell_type": "code",
   "execution_count": 6,
   "metadata": {},
   "outputs": [
    {
     "name": "stdout",
     "output_type": "stream",
     "text": [
      "Hazırlık, No:  52 12.43 919 Selam\n"
     ]
    }
   ],
   "source": [
    "print(\"Hazırlık, No: \", 52, 12.43, 919, \"Selam\")"
   ]
  },
  {
   "cell_type": "code",
   "execution_count": 7,
   "metadata": {},
   "outputs": [
    {
     "name": "stdout",
     "output_type": "stream",
     "text": [
      "Benim adım Ertuğrul\n"
     ]
    }
   ],
   "source": [
    "print(\"Benim\",\"adım\",\"Ertuğrul\")"
   ]
  },
  {
   "cell_type": "markdown",
   "metadata": {},
   "source": [
    "# Stringlerdeki Özel Karakterler (Kaçış Karakterleri)"
   ]
  },
  {
   "cell_type": "markdown",
   "metadata": {},
   "source": [
    "\\n karakteri"
   ]
  },
  {
   "cell_type": "code",
   "execution_count": 8,
   "metadata": {},
   "outputs": [
    {
     "name": "stdout",
     "output_type": "stream",
     "text": [
      "Merhaba ne haber nasılsın\n"
     ]
    }
   ],
   "source": [
    "print(\"Merhaba ne haber nasılsın\")"
   ]
  },
  {
   "cell_type": "code",
   "execution_count": 9,
   "metadata": {},
   "outputs": [
    {
     "name": "stdout",
     "output_type": "stream",
     "text": [
      "Merhaba\n",
      "ne haber\n",
      "nasılsın\n"
     ]
    }
   ],
   "source": [
    "print(\"Merhaba\\nne haber\\nnasılsın\")"
   ]
  },
  {
   "cell_type": "code",
   "execution_count": 17,
   "metadata": {},
   "outputs": [
    {
     "name": "stdout",
     "output_type": "stream",
     "text": [
      "Enka Fen\n",
      "  Hazırlık\n"
     ]
    }
   ],
   "source": [
    "print(\"Enka Fen\\n  Hazırlık\")"
   ]
  },
  {
   "cell_type": "markdown",
   "metadata": {},
   "source": [
    "\\t karakteri"
   ]
  },
  {
   "cell_type": "code",
   "execution_count": 10,
   "metadata": {},
   "outputs": [
    {
     "name": "stdout",
     "output_type": "stream",
     "text": [
      "Ocak\tŞubat\tMart\n"
     ]
    }
   ],
   "source": [
    "print(\"Ocak\\tŞubat\\tMart\")"
   ]
  },
  {
   "cell_type": "code",
   "execution_count": 14,
   "metadata": {},
   "outputs": [
    {
     "name": "stdout",
     "output_type": "stream",
     "text": [
      "Hazırlık\tSınıfı\tEnka\n"
     ]
    }
   ],
   "source": [
    "print(\"Hazırlık\\tSınıfı\\tEnka\")"
   ]
  },
  {
   "cell_type": "code",
   "execution_count": 16,
   "metadata": {},
   "outputs": [
    {
     "name": "stdout",
     "output_type": "stream",
     "text": [
      "Edirne\t\t\t\t\tHakkari\n"
     ]
    }
   ],
   "source": [
    "print(\"Edirne\\t\\t\\t\\t\\tHakkari\")"
   ]
  },
  {
   "cell_type": "markdown",
   "metadata": {},
   "source": [
    "type() fonksiyonu"
   ]
  },
  {
   "cell_type": "code",
   "execution_count": 18,
   "metadata": {},
   "outputs": [
    {
     "name": "stdout",
     "output_type": "stream",
     "text": [
      "<class 'int'>\n"
     ]
    }
   ],
   "source": [
    "a = 65\n",
    "print(type(a))"
   ]
  },
  {
   "cell_type": "code",
   "execution_count": 19,
   "metadata": {},
   "outputs": [
    {
     "name": "stdout",
     "output_type": "stream",
     "text": [
      "<class 'float'>\n"
     ]
    }
   ],
   "source": [
    "b = 45.234\n",
    "print(type(b))"
   ]
  },
  {
   "cell_type": "code",
   "execution_count": 20,
   "metadata": {},
   "outputs": [
    {
     "name": "stdout",
     "output_type": "stream",
     "text": [
      "<class 'str'>\n"
     ]
    }
   ],
   "source": [
    "c = \"zıkkımınkökü\"\n",
    "print(type(c))"
   ]
  },
  {
   "cell_type": "markdown",
   "metadata": {},
   "source": [
    "print Fonksiyonunun Özellikleri"
   ]
  },
  {
   "cell_type": "code",
   "execution_count": 21,
   "metadata": {},
   "outputs": [
    {
     "name": "stdout",
     "output_type": "stream",
     "text": [
      "3 4 5 6 7 8 9 0\n"
     ]
    }
   ],
   "source": [
    "print(3,4,5,6,7,8,9,0)"
   ]
  },
  {
   "cell_type": "code",
   "execution_count": 22,
   "metadata": {},
   "outputs": [
    {
     "name": "stdout",
     "output_type": "stream",
     "text": [
      "3.4.5.6.7.8.9.0\n"
     ]
    }
   ],
   "source": [
    "# sep parametresi\n",
    "print(3,4,5,6,7,8,9,0, sep=\".\")"
   ]
  },
  {
   "cell_type": "code",
   "execution_count": 23,
   "metadata": {},
   "outputs": [
    {
     "name": "stdout",
     "output_type": "stream",
     "text": [
      "23/10/2024\n"
     ]
    }
   ],
   "source": [
    "print(\"23\", \"10\", \"2024\", sep = \"/\")"
   ]
  },
  {
   "cell_type": "code",
   "execution_count": 24,
   "metadata": {},
   "outputs": [
    {
     "name": "stdout",
     "output_type": "stream",
     "text": [
      "3\n",
      "4\n",
      "5\n",
      "6\n",
      "7\n",
      "8\n",
      "9\n",
      "0\n"
     ]
    }
   ],
   "source": [
    "print(3,4,5,6,7,8,9,0, sep=\"\\n\")"
   ]
  },
  {
   "cell_type": "code",
   "execution_count": 25,
   "metadata": {},
   "outputs": [
    {
     "name": "stdout",
     "output_type": "stream",
     "text": [
      "P y t h o n\n"
     ]
    }
   ],
   "source": [
    "# Yıldızlı Parametre\n",
    "print(*\"Python\")"
   ]
  },
  {
   "cell_type": "code",
   "execution_count": 26,
   "metadata": {},
   "outputs": [
    {
     "name": "stdout",
     "output_type": "stream",
     "text": [
      "P\n",
      "y\n",
      "t\n",
      "h\n",
      "o\n",
      "n\n"
     ]
    }
   ],
   "source": [
    "print(*\"Python\", sep=\"\\n\")"
   ]
  },
  {
   "cell_type": "code",
   "execution_count": 27,
   "metadata": {},
   "outputs": [
    {
     "name": "stdout",
     "output_type": "stream",
     "text": [
      "T.B.M.M\n"
     ]
    }
   ],
   "source": [
    "print(*\"TBMM\", sep=\".\")"
   ]
  },
  {
   "cell_type": "markdown",
   "metadata": {},
   "source": [
    "## Formatlama"
   ]
  },
  {
   "cell_type": "code",
   "execution_count": 29,
   "metadata": {},
   "outputs": [
    {
     "data": {
      "text/plain": [
       "'3.14 ne haber 5 nasılsın 12'"
      ]
     },
     "execution_count": 29,
     "metadata": {},
     "output_type": "execute_result"
    }
   ],
   "source": [
    "\"{} ne haber {} nasılsın {}\".format(3.14,5,12)"
   ]
  },
  {
   "cell_type": "code",
   "execution_count": 30,
   "metadata": {},
   "outputs": [
    {
     "name": "stdout",
     "output_type": "stream",
     "text": [
      "3+4=7\n"
     ]
    }
   ],
   "source": [
    "a = 3\n",
    "b = 4\n",
    "print(\"{}+{}={}\".format(a, b, a+b))"
   ]
  },
  {
   "cell_type": "code",
   "execution_count": 31,
   "metadata": {},
   "outputs": [
    {
     "name": "stdout",
     "output_type": "stream",
     "text": [
      "2.1 | 345 | ertuğrul\n"
     ]
    }
   ],
   "source": [
    "# Süslü parantez içinde belirtilen\n",
    "# sayılar, format fonksiyonunun içindeki\n",
    "# değerlerden hangi sıradakinin\n",
    "# çağırılacağını belirtir.\n",
    "\n",
    "print(\"{2} | {0} | {1}\".format(345, \"ertuğrul\", 2.1))"
   ]
  },
  {
   "cell_type": "code",
   "execution_count": 32,
   "metadata": {},
   "outputs": [
    {
     "name": "stdout",
     "output_type": "stream",
     "text": [
      "3.12 | 5.8 | 52.124\n"
     ]
    }
   ],
   "source": [
    "print(\"{:.2f} | {:.1f} | {:.3f}\".format(3.1245,5.76834289,52.124))\n",
    "# bu kullanım, ondalıklı sayılarda\n",
    "# noktadan sonra kaç tane basamağın\n",
    "# alınacağını belirler."
   ]
  },
  {
   "cell_type": "code",
   "execution_count": 33,
   "metadata": {},
   "outputs": [
    {
     "name": "stdout",
     "output_type": "stream",
     "text": [
      "52.42 3.1 5.762\n"
     ]
    }
   ],
   "source": [
    "print(\"{2:.2f} {0:.1f} {1:.3f}\".format(3.1234,5.7623214,52.423556))\n",
    "# Sırayla çağırmayı ve ondalık basamak sayısını harmanlayalım"
   ]
  },
  {
   "cell_type": "code",
   "execution_count": 35,
   "metadata": {},
   "outputs": [
    {
     "name": "stdout",
     "output_type": "stream",
     "text": [
      "Merhaba Murtaza Çakıroğlu!\n",
      "Galiba İstanbul'da oturuyorsunuz\n"
     ]
    }
   ],
   "source": [
    "# fstring Formatlama\n",
    "ad = \"Murtaza\"\n",
    "soyad = \"Çakıroğlu\"\n",
    "ikamet = \"İstanbul\"\n",
    "print(f\"Merhaba {ad} {soyad}!\\nGaliba {ikamet}'da oturuyorsunuz\")"
   ]
  }
 ],
 "metadata": {
  "kernelspec": {
   "display_name": "base",
   "language": "python",
   "name": "python3"
  },
  "language_info": {
   "codemirror_mode": {
    "name": "ipython",
    "version": 3
   },
   "file_extension": ".py",
   "mimetype": "text/x-python",
   "name": "python",
   "nbconvert_exporter": "python",
   "pygments_lexer": "ipython3",
   "version": "3.12.4"
  }
 },
 "nbformat": 4,
 "nbformat_minor": 2
}
